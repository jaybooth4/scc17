{
 "cells": [
  {
   "cell_type": "code",
   "execution_count": 1,
   "metadata": {
    "collapsed": true
   },
   "outputs": [],
   "source": [
    "import matplotlib as mpl\n",
    "import matplotlib.pyplot as plt\n",
    "import numpy as np"
   ]
  },
  {
   "cell_type": "code",
   "execution_count": 2,
   "metadata": {
    "collapsed": true
   },
   "outputs": [],
   "source": [
    "#load Data\n",
    "blis = np.genfromtxt(\"blis-scaling.csv\", dtype=float, delimiter=',', names=True) \n",
    "mkl = np.genfromtxt(\"mkl-scaling.csv\", dtype=float, delimiter=',', names=True) "
   ]
  },
  {
   "cell_type": "code",
   "execution_count": 3,
   "metadata": {
    "collapsed": false
   },
   "outputs": [
    {
     "name": "stdout",
     "output_type": "stream",
     "text": [
      "('SizeN', 'Processes', 'ScoreGF', 'NB', 'P', 'Q')\n",
      "[(912.0, 1.0, 2.3, 1.0, 1.0, 1.0) (912.0, 1.0, 14.1, 32.0, 1.0, 1.0)\n",
      " (2048.0, 1.0, 14.6, 32.0, 1.0, 1.0) (4096.0, 1.0, 16.9, 32.0, 1.0, 1.0)\n",
      " (4096.0, 1.0, 19.6, 128.0, 1.0, 1.0) (9192.0, 1.0, 20.6, 128.0, 1.0, 1.0)\n",
      " (9192.0, 1.0, 20.8, 256.0, 1.0, 1.0) (12288.0, 1.0, 20.1, 256.0, 1.0, 1.0)\n",
      " (10240.0, 1.0, 20.6, 256.0, 1.0, 1.0)\n",
      " (10240.0, 1.0, 20.7, 512.0, 1.0, 1.0)\n",
      " (10240.0, 1.0, 20.3, 384.0, 1.0, 1.0)\n",
      " (11264.0, 1.0, 20.5, 512.0, 1.0, 1.0)\n",
      " (10240.0, 2.0, 34.0, 512.0, 2.0, 1.0)\n",
      " (14336.0, 2.0, 33.5, 512.0, 2.0, 1.0)\n",
      " (12288.0, 2.0, 34.6, 512.0, 2.0, 1.0)\n",
      " (11264.0, 2.0, 34.6, 512.0, 2.0, 1.0)\n",
      " (11264.0, 4.0, 65.3, 512.0, 4.0, 1.0)\n",
      " (16384.0, 4.0, 72.3, 512.0, 4.0, 1.0)\n",
      " (18432.0, 4.0, 72.9, 512.0, 4.0, 1.0)\n",
      " (18432.0, 4.0, 68.9, 512.0, 2.0, 2.0)\n",
      " (19456.0, 4.0, 65.8, 512.0, 4.0, 1.0)\n",
      " (18432.0, 8.0, 120.6, 512.0, 8.0, 1.0)\n",
      " (24576.0, 8.0, 129.8, 512.0, 8.0, 1.0)\n",
      " (24576.0, 8.0, 137.2, 512.0, 4.0, 2.0)\n",
      " (25600.0, 8.0, 138.1, 512.0, 4.0, 2.0)\n",
      " (25600.0, 16.0, 248.1, 512.0, 8.0, 2.0)\n",
      " (36864.0, 16.0, 272.9, 512.0, 8.0, 2.0)\n",
      " (34816.0, 16.0, 270.3, 512.0, 8.0, 2.0)\n",
      " (35840.0, 16.0, 273.6, 512.0, 8.0, 2.0)\n",
      " (37888.0, 16.0, 276.3, 512.0, 8.0, 2.0)\n",
      " (38912.0, 16.0, 277.6, 512.0, 8.0, 2.0)\n",
      " (38912.0, 32.0, 360.4, 32.0, 16.0, 2.0)\n",
      " (67584.0, 32.0, 459.9, 512.0, 16.0, 2.0)\n",
      " (65536.0, 32.0, 459.1, 512.0, 16.0, 2.0)\n",
      " (63488.0, 32.0, 454.5, 512.0, 16.0, 2.0)\n",
      " (73728.0, 32.0, 320.4, 1024.0, 16.0, 2.0)\n",
      " (69632.0, 32.0, 463.0, 512.0, 16.0, 2.0)\n",
      " (69632.0, 32.0, 497.9, 256.0, 16.0, 2.0)\n",
      " (70656.0, 32.0, 500.0, 256.0, 16.0, 2.0)\n",
      " (98304.0, 64.0, 892.9, 256.0, 16.0, 4.0)\n",
      " (131072.0, 64.0, 927.9, 256.0, 16.0, 4.0)]\n"
     ]
    }
   ],
   "source": [
    "#Print Data\n",
    "print(blis.dtype.names)\n",
    "print(blis)"
   ]
  },
  {
   "cell_type": "code",
   "execution_count": 4,
   "metadata": {
    "collapsed": true
   },
   "outputs": [],
   "source": [
    "#Get Number of Processes\n",
    "procBlis = blis['Processes']\n",
    "procMKL = mkl['Processes']"
   ]
  },
  {
   "cell_type": "code",
   "execution_count": 5,
   "metadata": {
    "collapsed": true
   },
   "outputs": [],
   "source": [
    "#Get score (Gigaflops)\n",
    "scoreBlis = blis['ScoreGF']\n",
    "scoreMKL = mkl['ScoreGF']"
   ]
  },
  {
   "cell_type": "code",
   "execution_count": 6,
   "metadata": {
    "collapsed": false
   },
   "outputs": [
    {
     "data": {
      "image/png": "[encoded data removed]",
      "text/plain": [
       "<matplotlib.figure.Figure at 0x28be96479b0>"
      ]
     },
     "metadata": {},
     "output_type": "display_data"
    }
   ],
   "source": [
    "#Plot\n",
    "fig = plt.figure()\n",
    "ax1 = fig.add_subplot(111)\n",
    "ax1.scatter(procBlis, scoreBlis, s=10, c='b', marker=\"s\", label='Blis')\n",
    "ax1.scatter(procMKL, scoreMKL, s=10, c='r', marker=\"o\", label='MKL')\n",
    "plt.legend(loc='upper left');\n",
    "plt.xlabel(\"Number of Processes\")\n",
    "plt.ylabel(\"Performance (GFlops)\")\n",
    "plt.title(\"Performance of MKL vs Blis Libraries for HPL\")\n",
    "mpl.rcParams['figure.figsize'] = (10,10)\n",
    "plt.show()"
   ]
  },
  {
   "cell_type": "markdown",
   "metadata": {},
   "source": [
    "|       Processes      |   1   |   2   |   4   |   8   |   16   |   32   |   64   |\n",
    "|----------------------|-------|-------|-------|-------|--------|--------|--------|\n",
    "|   NSize per Process  | 4096  | 5108  | 4340  | 3072  |  2624  |  2208  |  1168  |"
   ]
  },
  {
   "cell_type": "code",
   "execution_count": null,
   "metadata": {
    "collapsed": true
   },
   "outputs": [],
   "source": []
  }
 ],
 "metadata": {
  "kernelspec": {
   "display_name": "Python 3",
   "language": "python",
   "name": "python3"
  },
  "language_info": {
   "codemirror_mode": {
    "name": "ipython",
    "version": 3
   },
   "file_extension": ".py",
   "mimetype": "text/x-python",
   "name": "python",
   "nbconvert_exporter": "python",
   "pygments_lexer": "ipython3",
   "version": "3.6.0"
  }
 },
 "nbformat": 4,
 "nbformat_minor": 2
}
